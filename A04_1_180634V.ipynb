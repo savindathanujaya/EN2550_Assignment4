{
 "metadata": {
  "language_info": {
   "codemirror_mode": {
    "name": "ipython",
    "version": 3
   },
   "file_extension": ".py",
   "mimetype": "text/x-python",
   "name": "python",
   "nbconvert_exporter": "python",
   "pygments_lexer": "ipython3",
   "version": "3.7.9-final"
  },
  "orig_nbformat": 2,
  "kernelspec": {
   "name": "python3",
   "display_name": "Python 3.7.9 64-bit",
   "metadata": {
    "interpreter": {
     "hash": "a09512e34fb43abdb5a10850d36e64354a0090e6ea3664f995401644e4762c96"
    }
   }
  }
 },
 "nbformat": 4,
 "nbformat_minor": 2,
 "cells": [
  {
   "cell_type": "code",
   "execution_count": 1,
   "metadata": {},
   "outputs": [
    {
     "output_type": "stream",
     "name": "stdout",
     "text": [
      "x_train: (50000, 32, 32, 3)\n"
     ]
    }
   ],
   "source": [
    "import tensorflow as tf\n",
    "from tensorflow import keras\n",
    "import numpy as np\n",
    "import matplotlib.pyplot as plt\n",
    "(x_train, y_train), (x_test, y_test) = keras.datasets.cifar10.load_data()\n",
    "print('x_train:', x_train.shape)"
   ]
  },
  {
   "cell_type": "code",
   "execution_count": 2,
   "metadata": {},
   "outputs": [
    {
     "output_type": "stream",
     "name": "stdout",
     "text": [
      "w1: (3072, 10)\nb1: (10,)\n"
     ]
    }
   ],
   "source": [
    "K = len(np.unique(y_train)) # Classes\n",
    "Ntr = x_train.shape[0]\n",
    "Nte = x_test.shape[0]\n",
    "Din = 3072 # CIFAR10\n",
    "# Din = 784 # MINIST\n",
    "# Normalize pixel values\n",
    "x_train, x_test = x_train / 255.0, x_test / 255.0\n",
    "mean_image = np.mean(x_train, axis=0)\n",
    "x_train = x_train - mean_image\n",
    "x_test = x_test - mean_image\n",
    "y_train = tf.keras.utils.to_categorical(y_train, num_classes=K)\n",
    "y_test = tf.keras.utils.to_categorical(y_test, num_classes=K)\n",
    "x_train = np.reshape(x_train,(Ntr,Din))\n",
    "x_test = np.reshape(x_test,(Nte,Din))\n",
    "x_train = x_train.astype('float32')\n",
    "x_test = x_test.astype('float32')\n",
    "std=1e-5\n",
    "w1 = std*np.random.randn(Din, K)\n",
    "b1 = np.zeros(K)\n",
    "print(\"w1:\", w1.shape)\n",
    "print(\"b1:\", b1.shape)\n",
    "batch_size = Ntr\n"
   ]
  },
  {
   "cell_type": "code",
   "execution_count": null,
   "metadata": {},
   "outputs": [],
   "source": [
    "iterations =  300\n",
    "lr = 1.3e-2\n",
    "lr_decay=0.999\n",
    "reg = 5e-6\n",
    "loss_history = []\n",
    "train_acc_history = []\n",
    "val_acc_history = []\n",
    "seed = 0\n",
    "rng = np.random.default_rng(seed=seed)\n",
    "for t in range(iterations):\n",
    "    indices = np.arange(Ntr)\n",
    "    rng.shuffle(indices)\n",
    "    x = x_train[indices]\n",
    "    y = y_train[indices]\n",
    "    y_pred = x.dot(w1) + b1\n",
    "    # Forward pass\n",
    "    loss = 1./batch_size*np.square(y_pred-y).sum() + reg* np.sum(w1*w1)\n",
    "    loss_history.append(loss)\n",
    "    if t%10==0:\n",
    "        print('Epoches %d / %d: loss %f' % (t, iterations, loss))\n",
    "    # Backward pass\n",
    "    dy_pred=1./batch_size*2.0*(y_pred-y)\n",
    "    dw1=x.T.dot(dy_pred) + reg*w1\n",
    "    db1=dy_pred.sum(axis=0)\n",
    "    w1 -= lr*dw1\n",
    "    b1 -= lr*db1\n",
    "    lr *=lr_decay\n"
   ]
  },
  {
   "cell_type": "code",
   "execution_count": null,
   "metadata": {},
   "outputs": [],
   "source": [
    "# Printing accuracies and displaying w as images\n",
    "plt.plot(loss_history)\n",
    "f, axarr = plt.subplots(1,10)\n",
    "f.set_size_inches(16,6)\n",
    "\n",
    "for i in range(10 ):\n",
    "    img = w1[:, i].reshape(32, 32, 3)\n",
    "    axarr[i].imshow(img*1000)\n",
    "plt.show()\n",
    "\n",
    "x_t=x_train\n",
    "print('x_train ->' , x_t.shape)\n",
    "y_pred=x_t.dot(w1)+b1\n",
    "\n",
    "train_acc= 1.0-(1/Ntr)*(np.abs(np.argmax(y_train, axis=1)==np.argmax(y_pred, axis=1))).sum()\n",
    "print('train_acc = ', train_acc)\n",
    "\n",
    "x_te=x_test\n",
    "print('x_test ->' , x_t.shape)\n",
    "y_prede=x_te.dot(w1)+b1\n",
    "\n",
    "test_acc_e= 1.0-1/Nte*(np.abs(np.argmax(y_test, axis=1)==np.argmax(y_prede, axis=1))).sum()\n",
    "print('train_acc = ', test_acc_e)"
   ]
  }
 ]
}