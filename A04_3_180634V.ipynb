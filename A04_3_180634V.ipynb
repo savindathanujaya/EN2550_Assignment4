{
 "metadata": {
  "language_info": {
   "codemirror_mode": {
    "name": "ipython",
    "version": 3
   },
   "file_extension": ".py",
   "mimetype": "text/x-python",
   "name": "python",
   "nbconvert_exporter": "python",
   "pygments_lexer": "ipython3",
   "version": "3.7.9-final"
  },
  "orig_nbformat": 2,
  "kernelspec": {
   "name": "python3",
   "display_name": "Python 3.7.9 64-bit",
   "metadata": {
    "interpreter": {
     "hash": "a09512e34fb43abdb5a10850d36e64354a0090e6ea3664f995401644e4762c96"
    }
   }
  }
 },
 "nbformat": 4,
 "nbformat_minor": 2,
 "cells": [
  {
   "cell_type": "code",
   "execution_count": 1,
   "metadata": {},
   "outputs": [
    {
     "output_type": "stream",
     "name": "stdout",
     "text": [
      "x_train: (50000, 32, 32, 3)\n"
     ]
    }
   ],
   "source": [
    "import tensorflow as tf\n",
    "from tensorflow import keras\n",
    "import numpy as np\n",
    "import matplotlib.pyplot as plt\n",
    "(x_train, y_train), (x_test, y_test) = keras.datasets.cifar10.load_data()\n",
    "print('x_train:', x_train.shape)\n"
   ]
  },
  {
   "cell_type": "code",
   "execution_count": 2,
   "metadata": {},
   "outputs": [
    {
     "output_type": "stream",
     "name": "stdout",
     "text": [
      "w1: (3072, 200)\nb1: (200,)\nw2: (200, 10)\nb2: (10,)\n"
     ]
    }
   ],
   "source": [
    "K = len(np.unique(y_train)) # Classes\n",
    "Ntr = x_train.shape[0]\n",
    "Nte = x_test.shape[0]\n",
    "Din = 3072 # CIFAR10\n",
    "# Din = 784 # MINIST\n",
    "# Normalize pixel values\n",
    "x_train, x_test = x_train / 255.0, x_test / 255.0\n",
    "mean_image = np.mean(x_train, axis=0)\n",
    "x_train = x_train - mean_image\n",
    "x_test = x_test - mean_image\n",
    "y_train = tf.keras.utils.to_categorical(y_train, num_classes=K)\n",
    "y_test = tf.keras.utils.to_categorical(y_test, num_classes=K)\n",
    "x_train = np.reshape(x_train,(Ntr,Din))\n",
    "x_test = np.reshape(x_test,(Nte,Din))\n",
    "x_train = x_train.astype('float32')\n",
    "x_test = x_test.astype('float32')\n",
    "\n",
    "H=200\n",
    "std=1e-5\n",
    "w1 = std*np.random.randn(Din, H)\n",
    "w2 = std*np.random.randn(H, K)\n",
    "b1 = np.zeros(H)\n",
    "b2 = np.zeros(K)\n",
    "print(\"w1:\", w1.shape)\n",
    "print(\"b1:\", b1.shape)\n",
    "print(\"w2:\", w2.shape)\n",
    "print(\"b2:\", b2.shape)\n",
    "batch_size = 500\n"
   ]
  },
  {
   "cell_type": "code",
   "execution_count": 3,
   "metadata": {},
   "outputs": [
    {
     "output_type": "stream",
     "name": "stdout",
     "text": [
      "Epochs 0 / 300: loss 1.000056\n",
      "Epochs 10 / 300: loss 0.976625\n",
      "Epochs 20 / 300: loss 0.958952\n",
      "Epochs 30 / 300: loss 0.945482\n",
      "Epochs 40 / 300: loss 0.935160\n",
      "Epochs 50 / 300: loss 0.927229\n",
      "Epochs 60 / 300: loss 0.921208\n",
      "Epochs 70 / 300: loss 0.916640\n",
      "Epochs 80 / 300: loss 0.912781\n",
      "Epochs 90 / 300: loss 0.910060\n",
      "Epochs 100 / 300: loss 0.907642\n",
      "Epochs 110 / 300: loss 0.906163\n",
      "Epochs 120 / 300: loss 0.904884\n",
      "Epochs 130 / 300: loss 0.903951\n",
      "Epochs 140 / 300: loss 0.903080\n",
      "Epochs 150 / 300: loss 0.902310\n",
      "Epochs 160 / 300: loss 0.901932\n",
      "Epochs 170 / 300: loss 0.901559\n",
      "Epochs 180 / 300: loss 0.901148\n",
      "Epochs 190 / 300: loss 0.901133\n",
      "Epochs 200 / 300: loss 0.900860\n",
      "Epochs 210 / 300: loss 0.900637\n",
      "Epochs 220 / 300: loss 0.900480\n",
      "Epochs 230 / 300: loss 0.900499\n",
      "Epochs 240 / 300: loss 0.900222\n",
      "Epochs 250 / 300: loss 0.900349\n",
      "Epochs 260 / 300: loss 0.900191\n",
      "Epochs 270 / 300: loss 0.900050\n",
      "Epochs 280 / 300: loss 0.900252\n",
      "Epochs 290 / 300: loss 0.900047\n"
     ]
    }
   ],
   "source": [
    "iterations =  300\n",
    "lr = 1.3e-4\n",
    "lr_decay=0.999\n",
    "reg = 5e-6\n",
    "loss_history = []\n",
    "train_acc_history = []\n",
    "val_acc_history = []\n",
    "\n",
    "for t in range(iterations):\n",
    "    indices = np.random.choice(Ntr, batch_size, replace=False)\n",
    "    x = x_train[indices]\n",
    "    y = y_train[indices]\n",
    "    h=1.0/(1.0 +np.exp(-(x.dot(w1) + b1)))\n",
    "    y_pred = h.dot(w2) + b2\n",
    "    # Forward pass\n",
    "    loss = (1./batch_size)*np.square(y_pred-y).sum() + reg* (np.sum(w2*w2)+np.sum(w1*w1))\n",
    "    loss_history.append(loss)\n",
    "    if t%10==0:\n",
    "        print('Epochs %d / %d: loss %f' % (t, iterations, loss))\n",
    "    # Backward pass\n",
    "    dy_pred=1./batch_size*2.0*(y_pred-y)\n",
    "    dw2=h.T.dot(dy_pred)+reg*w2\n",
    "    db2=dy_pred.sum(axis=0)\n",
    "    dh=dy_pred.dot(w2.T)\n",
    "    dw1=x.T.dot(dh*h*(1-h)) + reg*w1\n",
    "    db1=(dh*h*(1-h)).sum(axis=0)\n",
    "    w1 -= lr*dw1\n",
    "    w2 -= lr*dw2\n",
    "    b1 -= lr*db1\n",
    "    b2 -= lr*db2\n",
    "    lr *= lr_decay\n"
   ]
  },
  {
   "cell_type": "code",
   "execution_count": 4,
   "metadata": {},
   "outputs": [
    {
     "output_type": "stream",
     "name": "stdout",
     "text": [
      "x_train -> (50000, 3072)\n",
      "train_acc =  0.9\n",
      "x_test -> (10000, 3072)\n",
      "train_acc =  0.9\n"
     ]
    },
    {
     "output_type": "display_data",
     "data": {
      "text/plain": "<Figure size 432x288 with 1 Axes>",
      "image/svg+xml": "<?xml version=\"1.0\" encoding=\"utf-8\" standalone=\"no\"?>\r\n<!DOCTYPE svg PUBLIC \"-//W3C//DTD SVG 1.1//EN\"\r\n  \"http://www.w3.org/Graphics/SVG/1.1/DTD/svg11.dtd\">\r\n<svg height=\"248.518125pt\" version=\"1.1\" viewBox=\"0 0 378.465625 248.518125\" width=\"378.465625pt\" xmlns=\"http://www.w3.org/2000/svg\" xmlns:xlink=\"http://www.w3.org/1999/xlink\">\r\n <metadata>\r\n  <rdf:RDF xmlns:cc=\"http://creativecommons.org/ns#\" xmlns:dc=\"http://purl.org/dc/elements/1.1/\" xmlns:rdf=\"http://www.w3.org/1999/02/22-rdf-syntax-ns#\">\r\n   <cc:Work>\r\n    <dc:type rdf:resource=\"http://purl.org/dc/dcmitype/StillImage\"/>\r\n    <dc:date>2021-04-01T04:17:39.768629</dc:date>\r\n    <dc:format>image/svg+xml</dc:format>\r\n    <dc:creator>\r\n     <cc:Agent>\r\n      <dc:title>Matplotlib v3.4.0, https://matplotlib.org/</dc:title>\r\n     </cc:Agent>\r\n    </dc:creator>\r\n   </cc:Work>\r\n  </rdf:RDF>\r\n </metadata>\r\n <defs>\r\n  <style type=\"text/css\">*{stroke-linecap:butt;stroke-linejoin:round;}</style>\r\n </defs>\r\n <g id=\"figure_1\">\r\n  <g id=\"patch_1\">\r\n   <path d=\"M 0 248.518125 \r\nL 378.465625 248.518125 \r\nL 378.465625 0 \r\nL 0 0 \r\nz\r\n\" style=\"fill:none;\"/>\r\n  </g>\r\n  <g id=\"axes_1\">\r\n   <g id=\"patch_2\">\r\n    <path d=\"M 36.465625 224.64 \r\nL 371.265625 224.64 \r\nL 371.265625 7.2 \r\nL 36.465625 7.2 \r\nz\r\n\" style=\"fill:#ffffff;\"/>\r\n   </g>\r\n   <g id=\"matplotlib.axis_1\">\r\n    <g id=\"xtick_1\">\r\n     <g id=\"line2d_1\">\r\n      <defs>\r\n       <path d=\"M 0 0 \r\nL 0 3.5 \r\n\" id=\"mb08c93930d\" style=\"stroke:#000000;stroke-width:0.8;\"/>\r\n      </defs>\r\n      <g>\r\n       <use style=\"stroke:#000000;stroke-width:0.8;\" x=\"51.683807\" xlink:href=\"#mb08c93930d\" y=\"224.64\"/>\r\n      </g>\r\n     </g>\r\n     <g id=\"text_1\">\r\n      <!-- 0 -->\r\n      <g transform=\"translate(48.502557 239.238438)scale(0.1 -0.1)\">\r\n       <defs>\r\n        <path d=\"M 2034 4250 \r\nQ 1547 4250 1301 3770 \r\nQ 1056 3291 1056 2328 \r\nQ 1056 1369 1301 889 \r\nQ 1547 409 2034 409 \r\nQ 2525 409 2770 889 \r\nQ 3016 1369 3016 2328 \r\nQ 3016 3291 2770 3770 \r\nQ 2525 4250 2034 4250 \r\nz\r\nM 2034 4750 \r\nQ 2819 4750 3233 4129 \r\nQ 3647 3509 3647 2328 \r\nQ 3647 1150 3233 529 \r\nQ 2819 -91 2034 -91 \r\nQ 1250 -91 836 529 \r\nQ 422 1150 422 2328 \r\nQ 422 3509 836 4129 \r\nQ 1250 4750 2034 4750 \r\nz\r\n\" id=\"DejaVuSans-30\" transform=\"scale(0.015625)\"/>\r\n       </defs>\r\n       <use xlink:href=\"#DejaVuSans-30\"/>\r\n      </g>\r\n     </g>\r\n    </g>\r\n    <g id=\"xtick_2\">\r\n     <g id=\"line2d_2\">\r\n      <g>\r\n       <use style=\"stroke:#000000;stroke-width:0.8;\" x=\"102.580736\" xlink:href=\"#mb08c93930d\" y=\"224.64\"/>\r\n      </g>\r\n     </g>\r\n     <g id=\"text_2\">\r\n      <!-- 50 -->\r\n      <g transform=\"translate(96.218236 239.238438)scale(0.1 -0.1)\">\r\n       <defs>\r\n        <path d=\"M 691 4666 \r\nL 3169 4666 \r\nL 3169 4134 \r\nL 1269 4134 \r\nL 1269 2991 \r\nQ 1406 3038 1543 3061 \r\nQ 1681 3084 1819 3084 \r\nQ 2600 3084 3056 2656 \r\nQ 3513 2228 3513 1497 \r\nQ 3513 744 3044 326 \r\nQ 2575 -91 1722 -91 \r\nQ 1428 -91 1123 -41 \r\nQ 819 9 494 109 \r\nL 494 744 \r\nQ 775 591 1075 516 \r\nQ 1375 441 1709 441 \r\nQ 2250 441 2565 725 \r\nQ 2881 1009 2881 1497 \r\nQ 2881 1984 2565 2268 \r\nQ 2250 2553 1709 2553 \r\nQ 1456 2553 1204 2497 \r\nQ 953 2441 691 2322 \r\nL 691 4666 \r\nz\r\n\" id=\"DejaVuSans-35\" transform=\"scale(0.015625)\"/>\r\n       </defs>\r\n       <use xlink:href=\"#DejaVuSans-35\"/>\r\n       <use x=\"63.623047\" xlink:href=\"#DejaVuSans-30\"/>\r\n      </g>\r\n     </g>\r\n    </g>\r\n    <g id=\"xtick_3\">\r\n     <g id=\"line2d_3\">\r\n      <g>\r\n       <use style=\"stroke:#000000;stroke-width:0.8;\" x=\"153.477665\" xlink:href=\"#mb08c93930d\" y=\"224.64\"/>\r\n      </g>\r\n     </g>\r\n     <g id=\"text_3\">\r\n      <!-- 100 -->\r\n      <g transform=\"translate(143.933915 239.238438)scale(0.1 -0.1)\">\r\n       <defs>\r\n        <path d=\"M 794 531 \r\nL 1825 531 \r\nL 1825 4091 \r\nL 703 3866 \r\nL 703 4441 \r\nL 1819 4666 \r\nL 2450 4666 \r\nL 2450 531 \r\nL 3481 531 \r\nL 3481 0 \r\nL 794 0 \r\nL 794 531 \r\nz\r\n\" id=\"DejaVuSans-31\" transform=\"scale(0.015625)\"/>\r\n       </defs>\r\n       <use xlink:href=\"#DejaVuSans-31\"/>\r\n       <use x=\"63.623047\" xlink:href=\"#DejaVuSans-30\"/>\r\n       <use x=\"127.246094\" xlink:href=\"#DejaVuSans-30\"/>\r\n      </g>\r\n     </g>\r\n    </g>\r\n    <g id=\"xtick_4\">\r\n     <g id=\"line2d_4\">\r\n      <g>\r\n       <use style=\"stroke:#000000;stroke-width:0.8;\" x=\"204.374594\" xlink:href=\"#mb08c93930d\" y=\"224.64\"/>\r\n      </g>\r\n     </g>\r\n     <g id=\"text_4\">\r\n      <!-- 150 -->\r\n      <g transform=\"translate(194.830844 239.238438)scale(0.1 -0.1)\">\r\n       <use xlink:href=\"#DejaVuSans-31\"/>\r\n       <use x=\"63.623047\" xlink:href=\"#DejaVuSans-35\"/>\r\n       <use x=\"127.246094\" xlink:href=\"#DejaVuSans-30\"/>\r\n      </g>\r\n     </g>\r\n    </g>\r\n    <g id=\"xtick_5\">\r\n     <g id=\"line2d_5\">\r\n      <g>\r\n       <use style=\"stroke:#000000;stroke-width:0.8;\" x=\"255.271523\" xlink:href=\"#mb08c93930d\" y=\"224.64\"/>\r\n      </g>\r\n     </g>\r\n     <g id=\"text_5\">\r\n      <!-- 200 -->\r\n      <g transform=\"translate(245.727773 239.238438)scale(0.1 -0.1)\">\r\n       <defs>\r\n        <path d=\"M 1228 531 \r\nL 3431 531 \r\nL 3431 0 \r\nL 469 0 \r\nL 469 531 \r\nQ 828 903 1448 1529 \r\nQ 2069 2156 2228 2338 \r\nQ 2531 2678 2651 2914 \r\nQ 2772 3150 2772 3378 \r\nQ 2772 3750 2511 3984 \r\nQ 2250 4219 1831 4219 \r\nQ 1534 4219 1204 4116 \r\nQ 875 4013 500 3803 \r\nL 500 4441 \r\nQ 881 4594 1212 4672 \r\nQ 1544 4750 1819 4750 \r\nQ 2544 4750 2975 4387 \r\nQ 3406 4025 3406 3419 \r\nQ 3406 3131 3298 2873 \r\nQ 3191 2616 2906 2266 \r\nQ 2828 2175 2409 1742 \r\nQ 1991 1309 1228 531 \r\nz\r\n\" id=\"DejaVuSans-32\" transform=\"scale(0.015625)\"/>\r\n       </defs>\r\n       <use xlink:href=\"#DejaVuSans-32\"/>\r\n       <use x=\"63.623047\" xlink:href=\"#DejaVuSans-30\"/>\r\n       <use x=\"127.246094\" xlink:href=\"#DejaVuSans-30\"/>\r\n      </g>\r\n     </g>\r\n    </g>\r\n    <g id=\"xtick_6\">\r\n     <g id=\"line2d_6\">\r\n      <g>\r\n       <use style=\"stroke:#000000;stroke-width:0.8;\" x=\"306.168453\" xlink:href=\"#mb08c93930d\" y=\"224.64\"/>\r\n      </g>\r\n     </g>\r\n     <g id=\"text_6\">\r\n      <!-- 250 -->\r\n      <g transform=\"translate(296.624703 239.238438)scale(0.1 -0.1)\">\r\n       <use xlink:href=\"#DejaVuSans-32\"/>\r\n       <use x=\"63.623047\" xlink:href=\"#DejaVuSans-35\"/>\r\n       <use x=\"127.246094\" xlink:href=\"#DejaVuSans-30\"/>\r\n      </g>\r\n     </g>\r\n    </g>\r\n    <g id=\"xtick_7\">\r\n     <g id=\"line2d_7\">\r\n      <g>\r\n       <use style=\"stroke:#000000;stroke-width:0.8;\" x=\"357.065382\" xlink:href=\"#mb08c93930d\" y=\"224.64\"/>\r\n      </g>\r\n     </g>\r\n     <g id=\"text_7\">\r\n      <!-- 300 -->\r\n      <g transform=\"translate(347.521632 239.238438)scale(0.1 -0.1)\">\r\n       <defs>\r\n        <path d=\"M 2597 2516 \r\nQ 3050 2419 3304 2112 \r\nQ 3559 1806 3559 1356 \r\nQ 3559 666 3084 287 \r\nQ 2609 -91 1734 -91 \r\nQ 1441 -91 1130 -33 \r\nQ 819 25 488 141 \r\nL 488 750 \r\nQ 750 597 1062 519 \r\nQ 1375 441 1716 441 \r\nQ 2309 441 2620 675 \r\nQ 2931 909 2931 1356 \r\nQ 2931 1769 2642 2001 \r\nQ 2353 2234 1838 2234 \r\nL 1294 2234 \r\nL 1294 2753 \r\nL 1863 2753 \r\nQ 2328 2753 2575 2939 \r\nQ 2822 3125 2822 3475 \r\nQ 2822 3834 2567 4026 \r\nQ 2313 4219 1838 4219 \r\nQ 1578 4219 1281 4162 \r\nQ 984 4106 628 3988 \r\nL 628 4550 \r\nQ 988 4650 1302 4700 \r\nQ 1616 4750 1894 4750 \r\nQ 2613 4750 3031 4423 \r\nQ 3450 4097 3450 3541 \r\nQ 3450 3153 3228 2886 \r\nQ 3006 2619 2597 2516 \r\nz\r\n\" id=\"DejaVuSans-33\" transform=\"scale(0.015625)\"/>\r\n       </defs>\r\n       <use xlink:href=\"#DejaVuSans-33\"/>\r\n       <use x=\"63.623047\" xlink:href=\"#DejaVuSans-30\"/>\r\n       <use x=\"127.246094\" xlink:href=\"#DejaVuSans-30\"/>\r\n      </g>\r\n     </g>\r\n    </g>\r\n   </g>\r\n   <g id=\"matplotlib.axis_2\">\r\n    <g id=\"ytick_1\">\r\n     <g id=\"line2d_8\">\r\n      <defs>\r\n       <path d=\"M 0 0 \r\nL -3.5 0 \r\n\" id=\"m3bec004bc7\" style=\"stroke:#000000;stroke-width:0.8;\"/>\r\n      </defs>\r\n      <g>\r\n       <use style=\"stroke:#000000;stroke-width:0.8;\" x=\"36.465625\" xlink:href=\"#m3bec004bc7\" y=\"214.647289\"/>\r\n      </g>\r\n     </g>\r\n     <g id=\"text_8\">\r\n      <!-- 0.90 -->\r\n      <g transform=\"translate(7.2 218.446508)scale(0.1 -0.1)\">\r\n       <defs>\r\n        <path d=\"M 684 794 \r\nL 1344 794 \r\nL 1344 0 \r\nL 684 0 \r\nL 684 794 \r\nz\r\n\" id=\"DejaVuSans-2e\" transform=\"scale(0.015625)\"/>\r\n        <path d=\"M 703 97 \r\nL 703 672 \r\nQ 941 559 1184 500 \r\nQ 1428 441 1663 441 \r\nQ 2288 441 2617 861 \r\nQ 2947 1281 2994 2138 \r\nQ 2813 1869 2534 1725 \r\nQ 2256 1581 1919 1581 \r\nQ 1219 1581 811 2004 \r\nQ 403 2428 403 3163 \r\nQ 403 3881 828 4315 \r\nQ 1253 4750 1959 4750 \r\nQ 2769 4750 3195 4129 \r\nQ 3622 3509 3622 2328 \r\nQ 3622 1225 3098 567 \r\nQ 2575 -91 1691 -91 \r\nQ 1453 -91 1209 -44 \r\nQ 966 3 703 97 \r\nz\r\nM 1959 2075 \r\nQ 2384 2075 2632 2365 \r\nQ 2881 2656 2881 3163 \r\nQ 2881 3666 2632 3958 \r\nQ 2384 4250 1959 4250 \r\nQ 1534 4250 1286 3958 \r\nQ 1038 3666 1038 3163 \r\nQ 1038 2656 1286 2365 \r\nQ 1534 2075 1959 2075 \r\nz\r\n\" id=\"DejaVuSans-39\" transform=\"scale(0.015625)\"/>\r\n       </defs>\r\n       <use xlink:href=\"#DejaVuSans-30\"/>\r\n       <use x=\"63.623047\" xlink:href=\"#DejaVuSans-2e\"/>\r\n       <use x=\"95.410156\" xlink:href=\"#DejaVuSans-39\"/>\r\n       <use x=\"159.033203\" xlink:href=\"#DejaVuSans-30\"/>\r\n      </g>\r\n     </g>\r\n    </g>\r\n    <g id=\"ytick_2\">\r\n     <g id=\"line2d_9\">\r\n      <g>\r\n       <use style=\"stroke:#000000;stroke-width:0.8;\" x=\"36.465625\" xlink:href=\"#m3bec004bc7\" y=\"175.156559\"/>\r\n      </g>\r\n     </g>\r\n     <g id=\"text_9\">\r\n      <!-- 0.92 -->\r\n      <g transform=\"translate(7.2 178.955778)scale(0.1 -0.1)\">\r\n       <use xlink:href=\"#DejaVuSans-30\"/>\r\n       <use x=\"63.623047\" xlink:href=\"#DejaVuSans-2e\"/>\r\n       <use x=\"95.410156\" xlink:href=\"#DejaVuSans-39\"/>\r\n       <use x=\"159.033203\" xlink:href=\"#DejaVuSans-32\"/>\r\n      </g>\r\n     </g>\r\n    </g>\r\n    <g id=\"ytick_3\">\r\n     <g id=\"line2d_10\">\r\n      <g>\r\n       <use style=\"stroke:#000000;stroke-width:0.8;\" x=\"36.465625\" xlink:href=\"#m3bec004bc7\" y=\"135.665829\"/>\r\n      </g>\r\n     </g>\r\n     <g id=\"text_10\">\r\n      <!-- 0.94 -->\r\n      <g transform=\"translate(7.2 139.465048)scale(0.1 -0.1)\">\r\n       <defs>\r\n        <path d=\"M 2419 4116 \r\nL 825 1625 \r\nL 2419 1625 \r\nL 2419 4116 \r\nz\r\nM 2253 4666 \r\nL 3047 4666 \r\nL 3047 1625 \r\nL 3713 1625 \r\nL 3713 1100 \r\nL 3047 1100 \r\nL 3047 0 \r\nL 2419 0 \r\nL 2419 1100 \r\nL 313 1100 \r\nL 313 1709 \r\nL 2253 4666 \r\nz\r\n\" id=\"DejaVuSans-34\" transform=\"scale(0.015625)\"/>\r\n       </defs>\r\n       <use xlink:href=\"#DejaVuSans-30\"/>\r\n       <use x=\"63.623047\" xlink:href=\"#DejaVuSans-2e\"/>\r\n       <use x=\"95.410156\" xlink:href=\"#DejaVuSans-39\"/>\r\n       <use x=\"159.033203\" xlink:href=\"#DejaVuSans-34\"/>\r\n      </g>\r\n     </g>\r\n    </g>\r\n    <g id=\"ytick_4\">\r\n     <g id=\"line2d_11\">\r\n      <g>\r\n       <use style=\"stroke:#000000;stroke-width:0.8;\" x=\"36.465625\" xlink:href=\"#m3bec004bc7\" y=\"96.175099\"/>\r\n      </g>\r\n     </g>\r\n     <g id=\"text_11\">\r\n      <!-- 0.96 -->\r\n      <g transform=\"translate(7.2 99.974318)scale(0.1 -0.1)\">\r\n       <defs>\r\n        <path d=\"M 2113 2584 \r\nQ 1688 2584 1439 2293 \r\nQ 1191 2003 1191 1497 \r\nQ 1191 994 1439 701 \r\nQ 1688 409 2113 409 \r\nQ 2538 409 2786 701 \r\nQ 3034 994 3034 1497 \r\nQ 3034 2003 2786 2293 \r\nQ 2538 2584 2113 2584 \r\nz\r\nM 3366 4563 \r\nL 3366 3988 \r\nQ 3128 4100 2886 4159 \r\nQ 2644 4219 2406 4219 \r\nQ 1781 4219 1451 3797 \r\nQ 1122 3375 1075 2522 \r\nQ 1259 2794 1537 2939 \r\nQ 1816 3084 2150 3084 \r\nQ 2853 3084 3261 2657 \r\nQ 3669 2231 3669 1497 \r\nQ 3669 778 3244 343 \r\nQ 2819 -91 2113 -91 \r\nQ 1303 -91 875 529 \r\nQ 447 1150 447 2328 \r\nQ 447 3434 972 4092 \r\nQ 1497 4750 2381 4750 \r\nQ 2619 4750 2861 4703 \r\nQ 3103 4656 3366 4563 \r\nz\r\n\" id=\"DejaVuSans-36\" transform=\"scale(0.015625)\"/>\r\n       </defs>\r\n       <use xlink:href=\"#DejaVuSans-30\"/>\r\n       <use x=\"63.623047\" xlink:href=\"#DejaVuSans-2e\"/>\r\n       <use x=\"95.410156\" xlink:href=\"#DejaVuSans-39\"/>\r\n       <use x=\"159.033203\" xlink:href=\"#DejaVuSans-36\"/>\r\n      </g>\r\n     </g>\r\n    </g>\r\n    <g id=\"ytick_5\">\r\n     <g id=\"line2d_12\">\r\n      <g>\r\n       <use style=\"stroke:#000000;stroke-width:0.8;\" x=\"36.465625\" xlink:href=\"#m3bec004bc7\" y=\"56.684369\"/>\r\n      </g>\r\n     </g>\r\n     <g id=\"text_12\">\r\n      <!-- 0.98 -->\r\n      <g transform=\"translate(7.2 60.483588)scale(0.1 -0.1)\">\r\n       <defs>\r\n        <path d=\"M 2034 2216 \r\nQ 1584 2216 1326 1975 \r\nQ 1069 1734 1069 1313 \r\nQ 1069 891 1326 650 \r\nQ 1584 409 2034 409 \r\nQ 2484 409 2743 651 \r\nQ 3003 894 3003 1313 \r\nQ 3003 1734 2745 1975 \r\nQ 2488 2216 2034 2216 \r\nz\r\nM 1403 2484 \r\nQ 997 2584 770 2862 \r\nQ 544 3141 544 3541 \r\nQ 544 4100 942 4425 \r\nQ 1341 4750 2034 4750 \r\nQ 2731 4750 3128 4425 \r\nQ 3525 4100 3525 3541 \r\nQ 3525 3141 3298 2862 \r\nQ 3072 2584 2669 2484 \r\nQ 3125 2378 3379 2068 \r\nQ 3634 1759 3634 1313 \r\nQ 3634 634 3220 271 \r\nQ 2806 -91 2034 -91 \r\nQ 1263 -91 848 271 \r\nQ 434 634 434 1313 \r\nQ 434 1759 690 2068 \r\nQ 947 2378 1403 2484 \r\nz\r\nM 1172 3481 \r\nQ 1172 3119 1398 2916 \r\nQ 1625 2713 2034 2713 \r\nQ 2441 2713 2670 2916 \r\nQ 2900 3119 2900 3481 \r\nQ 2900 3844 2670 4047 \r\nQ 2441 4250 2034 4250 \r\nQ 1625 4250 1398 4047 \r\nQ 1172 3844 1172 3481 \r\nz\r\n\" id=\"DejaVuSans-38\" transform=\"scale(0.015625)\"/>\r\n       </defs>\r\n       <use xlink:href=\"#DejaVuSans-30\"/>\r\n       <use x=\"63.623047\" xlink:href=\"#DejaVuSans-2e\"/>\r\n       <use x=\"95.410156\" xlink:href=\"#DejaVuSans-39\"/>\r\n       <use x=\"159.033203\" xlink:href=\"#DejaVuSans-38\"/>\r\n      </g>\r\n     </g>\r\n    </g>\r\n    <g id=\"ytick_6\">\r\n     <g id=\"line2d_13\">\r\n      <g>\r\n       <use style=\"stroke:#000000;stroke-width:0.8;\" x=\"36.465625\" xlink:href=\"#m3bec004bc7\" y=\"17.193639\"/>\r\n      </g>\r\n     </g>\r\n     <g id=\"text_13\">\r\n      <!-- 1.00 -->\r\n      <g transform=\"translate(7.2 20.992858)scale(0.1 -0.1)\">\r\n       <use xlink:href=\"#DejaVuSans-31\"/>\r\n       <use x=\"63.623047\" xlink:href=\"#DejaVuSans-2e\"/>\r\n       <use x=\"95.410156\" xlink:href=\"#DejaVuSans-30\"/>\r\n       <use x=\"159.033203\" xlink:href=\"#DejaVuSans-30\"/>\r\n      </g>\r\n     </g>\r\n    </g>\r\n   </g>\r\n   <g id=\"line2d_14\">\r\n    <path clip-path=\"url(#p053261e9c4)\" d=\"M 51.683807 17.083636 \r\nL 54.737623 32.32797 \r\nL 57.791438 46.275697 \r\nL 61.863193 63.348037 \r\nL 66.952886 81.753031 \r\nL 68.988763 88.64691 \r\nL 73.060517 101.318395 \r\nL 78.15021 115.18586 \r\nL 80.186087 120.018345 \r\nL 81.204026 122.659072 \r\nL 88.329596 137.780883 \r\nL 93.419289 147.086117 \r\nL 94.437227 148.647872 \r\nL 95.455166 150.46521 \r\nL 96.473104 151.877738 \r\nL 97.491043 153.689132 \r\nL 101.562797 159.632513 \r\nL 102.580736 160.882684 \r\nL 103.598675 162.371034 \r\nL 105.634552 164.792175 \r\nL 106.65249 166.194966 \r\nL 107.670429 167.128277 \r\nL 110.724245 170.808115 \r\nL 112.760122 172.771966 \r\nL 114.795999 175.050406 \r\nL 115.813938 175.873991 \r\nL 117.849815 177.955691 \r\nL 118.867753 178.658872 \r\nL 119.885692 179.770256 \r\nL 121.921569 181.529964 \r\nL 122.939508 181.79088 \r\nL 123.957446 182.863955 \r\nL 127.011262 185.24674 \r\nL 128.029201 185.993079 \r\nL 129.047139 186.340347 \r\nL 130.065078 187.295713 \r\nL 131.083016 188.063175 \r\nL 132.100955 188.569964 \r\nL 133.118893 189.410852 \r\nL 135.154771 190.530792 \r\nL 136.172709 190.873257 \r\nL 137.190648 191.52411 \r\nL 138.208586 192.022137 \r\nL 140.244464 193.362848 \r\nL 141.262402 193.769745 \r\nL 142.280341 194.341189 \r\nL 143.298279 194.783491 \r\nL 144.316218 195.385248 \r\nL 145.334156 195.726011 \r\nL 147.370034 196.725442 \r\nL 148.387972 196.984008 \r\nL 149.405911 197.746361 \r\nL 150.423849 198.172743 \r\nL 151.441788 198.476837 \r\nL 152.459727 198.527279 \r\nL 153.477665 199.557073 \r\nL 154.495604 199.298485 \r\nL 155.513542 199.845406 \r\nL 156.531481 199.935629 \r\nL 157.549419 200.486881 \r\nL 158.567358 200.785182 \r\nL 159.585297 201.286995 \r\nL 161.621174 201.558349 \r\nL 163.657051 202.477598 \r\nL 164.67499 202.633091 \r\nL 165.692928 202.569135 \r\nL 168.746744 203.967886 \r\nL 169.764682 204.300521 \r\nL 170.782621 204.085285 \r\nL 172.818498 204.821731 \r\nL 173.836437 205.002681 \r\nL 174.854375 205.040735 \r\nL 175.872314 205.574673 \r\nL 176.890253 205.630664 \r\nL 179.944068 206.469447 \r\nL 181.979945 206.634708 \r\nL 182.997884 207.101945 \r\nL 184.015823 206.84579 \r\nL 185.033761 207.15562 \r\nL 186.0517 207.201642 \r\nL 187.069638 207.652824 \r\nL 188.087577 207.860628 \r\nL 190.123454 207.857644 \r\nL 191.141393 208.231782 \r\nL 193.17727 208.264905 \r\nL 194.195208 208.565099 \r\nL 195.213147 208.747048 \r\nL 196.231086 209.235266 \r\nL 197.249024 209.177371 \r\nL 198.266963 209.518121 \r\nL 199.284901 209.143737 \r\nL 200.30284 209.211418 \r\nL 201.320779 209.631748 \r\nL 203.356656 209.452768 \r\nL 204.374594 210.085832 \r\nL 209.464287 210.199001 \r\nL 210.482226 210.251016 \r\nL 211.500164 210.577534 \r\nL 212.518103 210.381318 \r\nL 213.536042 210.733439 \r\nL 214.55398 210.832944 \r\nL 215.571919 211.105504 \r\nL 216.589857 210.777166 \r\nL 217.607796 211.11997 \r\nL 221.67955 211.399358 \r\nL 222.697489 211.33855 \r\nL 223.715427 211.523395 \r\nL 226.769243 211.760792 \r\nL 227.787182 212.004773 \r\nL 228.80512 211.935947 \r\nL 229.823059 211.725893 \r\nL 230.840997 212.063306 \r\nL 232.876875 211.811912 \r\nL 233.894813 212.167896 \r\nL 234.912752 212.380198 \r\nL 236.948629 212.313696 \r\nL 237.966568 212.029221 \r\nL 238.984506 212.33259 \r\nL 240.002445 212.331808 \r\nL 241.020383 212.881017 \r\nL 242.038322 212.463584 \r\nL 243.05626 212.513856 \r\nL 244.074199 212.949459 \r\nL 245.092138 212.410451 \r\nL 246.110076 212.905668 \r\nL 247.128015 212.86208 \r\nL 248.145953 212.504646 \r\nL 250.181831 213.08664 \r\nL 251.199769 213.103647 \r\nL 252.217708 212.80362 \r\nL 253.235646 212.687176 \r\nL 254.253585 212.98824 \r\nL 257.307401 212.978463 \r\nL 258.325339 213.107182 \r\nL 259.343278 213.109914 \r\nL 260.361216 212.954341 \r\nL 261.379155 213.363272 \r\nL 262.397094 213.168937 \r\nL 263.415032 213.485763 \r\nL 264.432971 213.136465 \r\nL 265.450909 213.388966 \r\nL 268.504725 213.310872 \r\nL 270.540602 213.529861 \r\nL 271.558541 213.510205 \r\nL 272.576479 213.654446 \r\nL 276.648234 213.733818 \r\nL 277.666172 213.745711 \r\nL 278.684111 213.562118 \r\nL 279.702049 213.687052 \r\nL 281.737927 213.73735 \r\nL 282.755865 213.891069 \r\nL 283.773804 213.785063 \r\nL 284.791742 213.898892 \r\nL 285.809681 213.662563 \r\nL 286.82762 213.97009 \r\nL 288.863497 213.660763 \r\nL 289.881435 213.931052 \r\nL 290.899374 213.928047 \r\nL 291.917312 214.067492 \r\nL 292.935251 214.05287 \r\nL 293.95319 213.823038 \r\nL 294.971128 213.874642 \r\nL 295.989067 214.209192 \r\nL 298.024944 213.888565 \r\nL 299.042883 214.125414 \r\nL 300.060821 214.242591 \r\nL 302.096698 214.145837 \r\nL 303.114637 214.336735 \r\nL 306.168453 213.957392 \r\nL 307.186391 214.198513 \r\nL 308.20433 213.810458 \r\nL 309.222268 214.112265 \r\nL 310.240207 214.11 \r\nL 311.258146 213.962878 \r\nL 312.276084 214.354735 \r\nL 313.294023 214.165603 \r\nL 314.311961 214.219046 \r\nL 315.3299 214.150865 \r\nL 317.365777 214.414414 \r\nL 318.383716 213.828608 \r\nL 319.401654 214.289229 \r\nL 320.419593 214.158159 \r\nL 321.437531 214.177139 \r\nL 322.45547 214.36266 \r\nL 323.473409 214.149998 \r\nL 324.491347 214.165022 \r\nL 325.509286 214.444621 \r\nL 326.527224 214.54789 \r\nL 327.545163 213.934895 \r\nL 328.563101 214.570045 \r\nL 329.58104 214.074936 \r\nL 330.598979 214.294918 \r\nL 332.634856 214.085256 \r\nL 333.652794 214.249983 \r\nL 334.670733 214.244197 \r\nL 335.688672 214.350275 \r\nL 336.70661 214.149456 \r\nL 337.724549 214.496787 \r\nL 338.742487 214.462004 \r\nL 339.760426 214.092049 \r\nL 340.778364 214.45135 \r\nL 341.796303 214.496463 \r\nL 342.814242 214.369362 \r\nL 343.83218 214.514518 \r\nL 344.850119 214.137624 \r\nL 345.868057 214.509331 \r\nL 346.885996 214.553536 \r\nL 347.903935 214.756364 \r\nL 348.921873 214.420974 \r\nL 350.95775 214.286491 \r\nL 351.975689 214.40932 \r\nL 352.993627 214.683781 \r\nL 354.011566 213.974867 \r\nL 355.029505 214.425237 \r\nL 356.047443 214.642974 \r\nL 356.047443 214.642974 \r\n\" style=\"fill:none;stroke:#1f77b4;stroke-linecap:square;stroke-width:1.5;\"/>\r\n   </g>\r\n   <g id=\"patch_3\">\r\n    <path d=\"M 36.465625 224.64 \r\nL 36.465625 7.2 \r\n\" style=\"fill:none;stroke:#000000;stroke-linecap:square;stroke-linejoin:miter;stroke-width:0.8;\"/>\r\n   </g>\r\n   <g id=\"patch_4\">\r\n    <path d=\"M 371.265625 224.64 \r\nL 371.265625 7.2 \r\n\" style=\"fill:none;stroke:#000000;stroke-linecap:square;stroke-linejoin:miter;stroke-width:0.8;\"/>\r\n   </g>\r\n   <g id=\"patch_5\">\r\n    <path d=\"M 36.465625 224.64 \r\nL 371.265625 224.64 \r\n\" style=\"fill:none;stroke:#000000;stroke-linecap:square;stroke-linejoin:miter;stroke-width:0.8;\"/>\r\n   </g>\r\n   <g id=\"patch_6\">\r\n    <path d=\"M 36.465625 7.2 \r\nL 371.265625 7.2 \r\n\" style=\"fill:none;stroke:#000000;stroke-linecap:square;stroke-linejoin:miter;stroke-width:0.8;\"/>\r\n   </g>\r\n  </g>\r\n </g>\r\n <defs>\r\n  <clipPath id=\"p053261e9c4\">\r\n   <rect height=\"217.44\" width=\"334.8\" x=\"36.465625\" y=\"7.2\"/>\r\n  </clipPath>\r\n </defs>\r\n</svg>\r\n",
      "image/png": "[encoded data removed]"
     },
     "metadata": {
      "needs_background": "light"
     }
    }
   ],
   "source": [
    "# Printing accuracies and displaying w as images\n",
    "plt.plot(loss_history)\n",
    "\n",
    "x_t=x_train\n",
    "print('x_train ->' , x_t.shape)\n",
    "h=1.0/(1.0 +np.exp(-(x_t.dot(w1)+b1)))\n",
    "y_pred=h.dot(w2)+b2\n",
    "\n",
    "train_acc= 1.0-(1/Ntr)*(np.abs(np.argmax(y_train, axis=1)==np.argmax(y_pred, axis=1))).sum()\n",
    "print('train_acc = ', train_acc)\n",
    "\n",
    "x_t=x_test\n",
    "print('x_test ->' , x_t.shape)\n",
    "h=1.0/(1.0 +np.exp(-(x_t.dot(w1)+b1)))\n",
    "y_pred=h.dot(w2)+b2\n",
    "\n",
    "test_acc= 1.0-(1/Nte)*(np.abs(np.argmax(y_test, axis=1)==np.argmax(y_pred, axis=1))).sum()\n",
    "print('train_acc = ', test_acc)"
   ]
  },
  {
   "cell_type": "code",
   "execution_count": null,
   "metadata": {},
   "outputs": [],
   "source": []
  }
 ]
}